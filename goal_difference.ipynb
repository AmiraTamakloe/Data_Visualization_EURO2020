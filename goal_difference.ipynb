{
 "cells": [
  {
   "cell_type": "code",
   "execution_count": 68,
   "metadata": {},
   "outputs": [
    {
     "data": {
      "text/html": [
       "<div>\n",
       "<style scoped>\n",
       "    .dataframe tbody tr th:only-of-type {\n",
       "        vertical-align: middle;\n",
       "    }\n",
       "\n",
       "    .dataframe tbody tr th {\n",
       "        vertical-align: top;\n",
       "    }\n",
       "\n",
       "    .dataframe thead th {\n",
       "        text-align: right;\n",
       "    }\n",
       "</style>\n",
       "<table border=\"1\" class=\"dataframe\">\n",
       "  <thead>\n",
       "    <tr style=\"text-align: right;\">\n",
       "      <th></th>\n",
       "      <th>HomeTeamName</th>\n",
       "      <th>AwayTeamName</th>\n",
       "      <th>DateandTimeCET</th>\n",
       "      <th>MatchID</th>\n",
       "      <th>RoundName</th>\n",
       "      <th>ScoreHome</th>\n",
       "      <th>ScoreAway</th>\n",
       "      <th>Event</th>\n",
       "      <th>Time</th>\n",
       "    </tr>\n",
       "  </thead>\n",
       "  <tbody>\n",
       "    <tr>\n",
       "      <th>0</th>\n",
       "      <td>Turkey</td>\n",
       "      <td>Italy</td>\n",
       "      <td>2021-06-11T21:00:00</td>\n",
       "      <td>2024447</td>\n",
       "      <td>final tournament</td>\n",
       "      <td>0</td>\n",
       "      <td>3</td>\n",
       "      <td>StartFirstHalf</td>\n",
       "      <td>2021-06-11T19:00:26.877</td>\n",
       "    </tr>\n",
       "    <tr>\n",
       "      <th>1</th>\n",
       "      <td>Turkey</td>\n",
       "      <td>Italy</td>\n",
       "      <td>2021-06-11T21:00:00</td>\n",
       "      <td>2024447</td>\n",
       "      <td>final tournament</td>\n",
       "      <td>0</td>\n",
       "      <td>3</td>\n",
       "      <td>GoalAttemptOffTarget</td>\n",
       "      <td>2021-06-11T19:02:35.427</td>\n",
       "    </tr>\n",
       "    <tr>\n",
       "      <th>2</th>\n",
       "      <td>Turkey</td>\n",
       "      <td>Italy</td>\n",
       "      <td>2021-06-11T21:00:00</td>\n",
       "      <td>2024447</td>\n",
       "      <td>final tournament</td>\n",
       "      <td>0</td>\n",
       "      <td>3</td>\n",
       "      <td>Foul</td>\n",
       "      <td>2021-06-11T19:11:43.757</td>\n",
       "    </tr>\n",
       "    <tr>\n",
       "      <th>3</th>\n",
       "      <td>Turkey</td>\n",
       "      <td>Italy</td>\n",
       "      <td>2021-06-11T21:00:00</td>\n",
       "      <td>2024447</td>\n",
       "      <td>final tournament</td>\n",
       "      <td>0</td>\n",
       "      <td>3</td>\n",
       "      <td>FreeKick</td>\n",
       "      <td>2021-06-11T19:11:58.677</td>\n",
       "    </tr>\n",
       "    <tr>\n",
       "      <th>4</th>\n",
       "      <td>Turkey</td>\n",
       "      <td>Italy</td>\n",
       "      <td>2021-06-11T21:00:00</td>\n",
       "      <td>2024447</td>\n",
       "      <td>final tournament</td>\n",
       "      <td>0</td>\n",
       "      <td>3</td>\n",
       "      <td>Foul</td>\n",
       "      <td>2021-06-11T19:12:25.197</td>\n",
       "    </tr>\n",
       "    <tr>\n",
       "      <th>...</th>\n",
       "      <td>...</td>\n",
       "      <td>...</td>\n",
       "      <td>...</td>\n",
       "      <td>...</td>\n",
       "      <td>...</td>\n",
       "      <td>...</td>\n",
       "      <td>...</td>\n",
       "      <td>...</td>\n",
       "      <td>...</td>\n",
       "    </tr>\n",
       "    <tr>\n",
       "      <th>6131</th>\n",
       "      <td>Italy</td>\n",
       "      <td>England</td>\n",
       "      <td>2021-07-11T21:00:00</td>\n",
       "      <td>2024491</td>\n",
       "      <td>final</td>\n",
       "      <td>1</td>\n",
       "      <td>1</td>\n",
       "      <td>PenaltySaved</td>\n",
       "      <td>2021-07-11T21:52:17.4</td>\n",
       "    </tr>\n",
       "    <tr>\n",
       "      <th>6132</th>\n",
       "      <td>Italy</td>\n",
       "      <td>England</td>\n",
       "      <td>2021-07-11T21:00:00</td>\n",
       "      <td>2024491</td>\n",
       "      <td>final</td>\n",
       "      <td>1</td>\n",
       "      <td>1</td>\n",
       "      <td>GoalAttemptSaved</td>\n",
       "      <td>2021-07-11T21:52:18.4</td>\n",
       "    </tr>\n",
       "    <tr>\n",
       "      <th>6133</th>\n",
       "      <td>Italy</td>\n",
       "      <td>England</td>\n",
       "      <td>2021-07-11T21:00:00</td>\n",
       "      <td>2024491</td>\n",
       "      <td>final</td>\n",
       "      <td>1</td>\n",
       "      <td>1</td>\n",
       "      <td>PenaltySaved</td>\n",
       "      <td>2021-07-11T21:53:31.727</td>\n",
       "    </tr>\n",
       "    <tr>\n",
       "      <th>6134</th>\n",
       "      <td>Italy</td>\n",
       "      <td>England</td>\n",
       "      <td>2021-07-11T21:00:00</td>\n",
       "      <td>2024491</td>\n",
       "      <td>final</td>\n",
       "      <td>1</td>\n",
       "      <td>1</td>\n",
       "      <td>GoalAttemptSaved</td>\n",
       "      <td>2021-07-11T21:53:32.727</td>\n",
       "    </tr>\n",
       "    <tr>\n",
       "      <th>6135</th>\n",
       "      <td>Italy</td>\n",
       "      <td>England</td>\n",
       "      <td>2021-07-11T21:00:00</td>\n",
       "      <td>2024491</td>\n",
       "      <td>final</td>\n",
       "      <td>1</td>\n",
       "      <td>1</td>\n",
       "      <td>EndPenaltyPhase</td>\n",
       "      <td>2021-07-11T21:53:59.937</td>\n",
       "    </tr>\n",
       "  </tbody>\n",
       "</table>\n",
       "<p>6136 rows × 9 columns</p>\n",
       "</div>"
      ],
      "text/plain": [
       "     HomeTeamName AwayTeamName       DateandTimeCET  MatchID  \\\n",
       "0          Turkey        Italy  2021-06-11T21:00:00  2024447   \n",
       "1          Turkey        Italy  2021-06-11T21:00:00  2024447   \n",
       "2          Turkey        Italy  2021-06-11T21:00:00  2024447   \n",
       "3          Turkey        Italy  2021-06-11T21:00:00  2024447   \n",
       "4          Turkey        Italy  2021-06-11T21:00:00  2024447   \n",
       "...           ...          ...                  ...      ...   \n",
       "6131        Italy      England  2021-07-11T21:00:00  2024491   \n",
       "6132        Italy      England  2021-07-11T21:00:00  2024491   \n",
       "6133        Italy      England  2021-07-11T21:00:00  2024491   \n",
       "6134        Italy      England  2021-07-11T21:00:00  2024491   \n",
       "6135        Italy      England  2021-07-11T21:00:00  2024491   \n",
       "\n",
       "             RoundName  ScoreHome  ScoreAway                 Event  \\\n",
       "0     final tournament          0          3        StartFirstHalf   \n",
       "1     final tournament          0          3  GoalAttemptOffTarget   \n",
       "2     final tournament          0          3                  Foul   \n",
       "3     final tournament          0          3              FreeKick   \n",
       "4     final tournament          0          3                  Foul   \n",
       "...                ...        ...        ...                   ...   \n",
       "6131             final          1          1          PenaltySaved   \n",
       "6132             final          1          1      GoalAttemptSaved   \n",
       "6133             final          1          1          PenaltySaved   \n",
       "6134             final          1          1      GoalAttemptSaved   \n",
       "6135             final          1          1       EndPenaltyPhase   \n",
       "\n",
       "                         Time  \n",
       "0     2021-06-11T19:00:26.877  \n",
       "1     2021-06-11T19:02:35.427  \n",
       "2     2021-06-11T19:11:43.757  \n",
       "3     2021-06-11T19:11:58.677  \n",
       "4     2021-06-11T19:12:25.197  \n",
       "...                       ...  \n",
       "6131    2021-07-11T21:52:17.4  \n",
       "6132    2021-07-11T21:52:18.4  \n",
       "6133  2021-07-11T21:53:31.727  \n",
       "6134  2021-07-11T21:53:32.727  \n",
       "6135  2021-07-11T21:53:59.937  \n",
       "\n",
       "[6136 rows x 9 columns]"
      ]
     },
     "execution_count": 68,
     "metadata": {},
     "output_type": "execute_result"
    }
   ],
   "source": [
    "import pandas as pd\n",
    "import plotly.express as px\n",
    "\n",
    "df_match_info = pd.read_csv('project_data.csv')\n",
    "df_match_info"
   ]
  },
  {
   "cell_type": "markdown",
   "metadata": {},
   "source": [
    "Data Processing :\n",
    "1. Remove useless columns (Event, Time)\n",
    "2. Remove duplicated values generated by Event column on the df \n",
    "3. Export the result in a csv to visualize the data"
   ]
  },
  {
   "cell_type": "code",
   "execution_count": 69,
   "metadata": {},
   "outputs": [],
   "source": [
    "df_match_info.drop(['Event', 'Time'], axis=1, inplace=True)\n",
    "df_games = df_match_info.drop_duplicates()\n",
    "df_games.size\n",
    "df_games.to_csv('games_info.csv', index=False) "
   ]
  },
  {
   "cell_type": "markdown",
   "metadata": {},
   "source": [
    "Goal Statisctic Formatting :\n",
    "1. Iterate over rows and retrieve HomeTeamName, AwayTeamName, ScoreHome, ScoreAway\n",
    "2. Add values in country Stats --> Key (Country Name : string ) Values ('Goal_Scored': int, 'Goal_Conceded': int)\n",
    "3. home_goals is added to HomeTeamName Goal_Scored value and AwayTeamName Goal_Conceded value\n",
    "4. away_goals is added to AwayTeamName Goal_Scored value and HomeTeamName Goal_Conceded value\n",
    "5. Transform the dictionnary into a dataframe and generate a column Goal_Difference based on (Goal_Scored - Goal_Conceded)\n",
    "6. Sort Value by Goal_Difference"
   ]
  },
  {
   "cell_type": "code",
   "execution_count": 70,
   "metadata": {},
   "outputs": [
    {
     "data": {
      "text/html": [
       "<div>\n",
       "<style scoped>\n",
       "    .dataframe tbody tr th:only-of-type {\n",
       "        vertical-align: middle;\n",
       "    }\n",
       "\n",
       "    .dataframe tbody tr th {\n",
       "        vertical-align: top;\n",
       "    }\n",
       "\n",
       "    .dataframe thead th {\n",
       "        text-align: right;\n",
       "    }\n",
       "</style>\n",
       "<table border=\"1\" class=\"dataframe\">\n",
       "  <thead>\n",
       "    <tr style=\"text-align: right;\">\n",
       "      <th></th>\n",
       "      <th>Country</th>\n",
       "      <th>Goal_Scored</th>\n",
       "      <th>Goal_Conceded</th>\n",
       "      <th>Goal_Difference</th>\n",
       "    </tr>\n",
       "  </thead>\n",
       "  <tbody>\n",
       "    <tr>\n",
       "      <th>0</th>\n",
       "      <td>Turkey</td>\n",
       "      <td>1</td>\n",
       "      <td>8</td>\n",
       "      <td>-7</td>\n",
       "    </tr>\n",
       "    <tr>\n",
       "      <th>11</th>\n",
       "      <td>North Macedonia</td>\n",
       "      <td>2</td>\n",
       "      <td>8</td>\n",
       "      <td>-6</td>\n",
       "    </tr>\n",
       "    <tr>\n",
       "      <th>17</th>\n",
       "      <td>Slovakia</td>\n",
       "      <td>2</td>\n",
       "      <td>7</td>\n",
       "      <td>-5</td>\n",
       "    </tr>\n",
       "    <tr>\n",
       "      <th>7</th>\n",
       "      <td>Russia</td>\n",
       "      <td>2</td>\n",
       "      <td>7</td>\n",
       "      <td>-5</td>\n",
       "    </tr>\n",
       "    <tr>\n",
       "      <th>14</th>\n",
       "      <td>Scotland</td>\n",
       "      <td>1</td>\n",
       "      <td>5</td>\n",
       "      <td>-4</td>\n",
       "    </tr>\n",
       "    <tr>\n",
       "      <th>13</th>\n",
       "      <td>Ukraine</td>\n",
       "      <td>6</td>\n",
       "      <td>10</td>\n",
       "      <td>-4</td>\n",
       "    </tr>\n",
       "    <tr>\n",
       "      <th>2</th>\n",
       "      <td>Wales</td>\n",
       "      <td>3</td>\n",
       "      <td>6</td>\n",
       "      <td>-3</td>\n",
       "    </tr>\n",
       "    <tr>\n",
       "      <th>20</th>\n",
       "      <td>Hungary</td>\n",
       "      <td>3</td>\n",
       "      <td>6</td>\n",
       "      <td>-3</td>\n",
       "    </tr>\n",
       "    <tr>\n",
       "      <th>5</th>\n",
       "      <td>Finland</td>\n",
       "      <td>1</td>\n",
       "      <td>3</td>\n",
       "      <td>-2</td>\n",
       "    </tr>\n",
       "    <tr>\n",
       "      <th>16</th>\n",
       "      <td>Poland</td>\n",
       "      <td>4</td>\n",
       "      <td>6</td>\n",
       "      <td>-2</td>\n",
       "    </tr>\n",
       "    <tr>\n",
       "      <th>23</th>\n",
       "      <td>Germany</td>\n",
       "      <td>6</td>\n",
       "      <td>7</td>\n",
       "      <td>-1</td>\n",
       "    </tr>\n",
       "    <tr>\n",
       "      <th>9</th>\n",
       "      <td>Croatia</td>\n",
       "      <td>7</td>\n",
       "      <td>8</td>\n",
       "      <td>-1</td>\n",
       "    </tr>\n",
       "    <tr>\n",
       "      <th>3</th>\n",
       "      <td>Switzerland</td>\n",
       "      <td>8</td>\n",
       "      <td>9</td>\n",
       "      <td>-1</td>\n",
       "    </tr>\n",
       "    <tr>\n",
       "      <th>21</th>\n",
       "      <td>Portugal</td>\n",
       "      <td>7</td>\n",
       "      <td>7</td>\n",
       "      <td>0</td>\n",
       "    </tr>\n",
       "    <tr>\n",
       "      <th>10</th>\n",
       "      <td>Austria</td>\n",
       "      <td>5</td>\n",
       "      <td>5</td>\n",
       "      <td>0</td>\n",
       "    </tr>\n",
       "    <tr>\n",
       "      <th>22</th>\n",
       "      <td>France</td>\n",
       "      <td>7</td>\n",
       "      <td>6</td>\n",
       "      <td>1</td>\n",
       "    </tr>\n",
       "    <tr>\n",
       "      <th>19</th>\n",
       "      <td>Sweden</td>\n",
       "      <td>5</td>\n",
       "      <td>4</td>\n",
       "      <td>1</td>\n",
       "    </tr>\n",
       "    <tr>\n",
       "      <th>15</th>\n",
       "      <td>Czech Republic</td>\n",
       "      <td>6</td>\n",
       "      <td>4</td>\n",
       "      <td>2</td>\n",
       "    </tr>\n",
       "    <tr>\n",
       "      <th>12</th>\n",
       "      <td>Netherlands</td>\n",
       "      <td>8</td>\n",
       "      <td>4</td>\n",
       "      <td>4</td>\n",
       "    </tr>\n",
       "    <tr>\n",
       "      <th>4</th>\n",
       "      <td>Denmark</td>\n",
       "      <td>12</td>\n",
       "      <td>7</td>\n",
       "      <td>5</td>\n",
       "    </tr>\n",
       "    <tr>\n",
       "      <th>6</th>\n",
       "      <td>Belgium</td>\n",
       "      <td>9</td>\n",
       "      <td>3</td>\n",
       "      <td>6</td>\n",
       "    </tr>\n",
       "    <tr>\n",
       "      <th>18</th>\n",
       "      <td>Spain</td>\n",
       "      <td>13</td>\n",
       "      <td>6</td>\n",
       "      <td>7</td>\n",
       "    </tr>\n",
       "    <tr>\n",
       "      <th>1</th>\n",
       "      <td>Italy</td>\n",
       "      <td>13</td>\n",
       "      <td>4</td>\n",
       "      <td>9</td>\n",
       "    </tr>\n",
       "    <tr>\n",
       "      <th>8</th>\n",
       "      <td>England</td>\n",
       "      <td>11</td>\n",
       "      <td>2</td>\n",
       "      <td>9</td>\n",
       "    </tr>\n",
       "  </tbody>\n",
       "</table>\n",
       "</div>"
      ],
      "text/plain": [
       "            Country  Goal_Scored  Goal_Conceded  Goal_Difference\n",
       "0            Turkey            1              8               -7\n",
       "11  North Macedonia            2              8               -6\n",
       "17         Slovakia            2              7               -5\n",
       "7            Russia            2              7               -5\n",
       "14         Scotland            1              5               -4\n",
       "13          Ukraine            6             10               -4\n",
       "2             Wales            3              6               -3\n",
       "20          Hungary            3              6               -3\n",
       "5           Finland            1              3               -2\n",
       "16           Poland            4              6               -2\n",
       "23          Germany            6              7               -1\n",
       "9           Croatia            7              8               -1\n",
       "3       Switzerland            8              9               -1\n",
       "21         Portugal            7              7                0\n",
       "10          Austria            5              5                0\n",
       "22           France            7              6                1\n",
       "19           Sweden            5              4                1\n",
       "15   Czech Republic            6              4                2\n",
       "12      Netherlands            8              4                4\n",
       "4           Denmark           12              7                5\n",
       "6           Belgium            9              3                6\n",
       "18            Spain           13              6                7\n",
       "1             Italy           13              4                9\n",
       "8           England           11              2                9"
      ]
     },
     "execution_count": 70,
     "metadata": {},
     "output_type": "execute_result"
    }
   ],
   "source": [
    "country_stats = {}\n",
    "\n",
    "for index, row in df_games.iterrows():\n",
    "    home_team = row['HomeTeamName']\n",
    "    away_team = row['AwayTeamName']\n",
    "    home_goals = row['ScoreHome']\n",
    "    away_goals = row['ScoreAway']\n",
    "    \n",
    "    if home_team not in country_stats:\n",
    "        country_stats[home_team] = {'Goal_Scored': 0, 'Goal_Conceded': 0}\n",
    "    country_stats[home_team]['Goal_Scored'] += home_goals\n",
    "    country_stats[home_team]['Goal_Conceded'] += away_goals\n",
    "    \n",
    "    if away_team not in country_stats:\n",
    "        country_stats[away_team] = {'Goal_Scored': 0, 'Goal_Conceded': 0}\n",
    "    country_stats[away_team]['Goal_Scored'] += away_goals\n",
    "    country_stats[away_team]['Goal_Conceded'] += home_goals\n",
    "\n",
    "result_df = pd.DataFrame.from_dict(country_stats, orient='index').reset_index()\n",
    "result_df.columns = ['Country', 'Goal_Scored', 'Goal_Conceded']\n",
    "\n",
    "result_df['Goal_Difference'] = result_df['Goal_Scored'] - result_df['Goal_Conceded']\n",
    "\n",
    "result_df = result_df.sort_values(by='Goal_Difference', ascending=True)\n",
    "\n",
    "result_df"
   ]
  },
  {
   "cell_type": "markdown",
   "metadata": {},
   "source": [
    "Bar Chart Creation with Hover effect \n",
    "1. Bar Chart initialization (x --> countries | y --> Goal difference), Color gradient based on Goal_Difference\n",
    "2. Update figure layout by setting bounds of one goal on the y axis, setting a white background template and rotating x-axis by 45° for better visibility\n",
    "3. Update when hovering on a bar by adding a black border over each bar, hover effect customization by adding a template \n",
    "4. Show the figure  "
   ]
  },
  {
   "cell_type": "code",
   "execution_count": 74,
   "metadata": {},
   "outputs": [
    {
     "data": {
      "application/vnd.plotly.v1+json": {
       "config": {
        "plotlyServerURL": "https://plot.ly"
       },
       "data": [
        {
         "alignmentgroup": "True",
         "customdata": [
          [
           1,
           8
          ],
          [
           2,
           8
          ],
          [
           2,
           7
          ],
          [
           2,
           7
          ],
          [
           1,
           5
          ],
          [
           6,
           10
          ],
          [
           3,
           6
          ],
          [
           3,
           6
          ],
          [
           1,
           3
          ],
          [
           4,
           6
          ],
          [
           6,
           7
          ],
          [
           7,
           8
          ],
          [
           8,
           9
          ],
          [
           7,
           7
          ],
          [
           5,
           5
          ],
          [
           7,
           6
          ],
          [
           5,
           4
          ],
          [
           6,
           4
          ],
          [
           8,
           4
          ],
          [
           12,
           7
          ],
          [
           9,
           3
          ],
          [
           13,
           6
          ],
          [
           13,
           4
          ],
          [
           11,
           2
          ]
         ],
         "hovertemplate": "<b>%{x}</b><br>Goal Difference: %{y}<br>Goals Scored: %{customdata[0]}<br>Goals Conceded: %{customdata[1]}",
         "legendgroup": "",
         "marker": {
          "color": [
           -7,
           -6,
           -5,
           -5,
           -4,
           -4,
           -3,
           -3,
           -2,
           -2,
           -1,
           -1,
           -1,
           0,
           0,
           1,
           1,
           2,
           4,
           5,
           6,
           7,
           9,
           9
          ],
          "coloraxis": "coloraxis",
          "line": {
           "color": "black",
           "width": 1.5
          },
          "pattern": {
           "shape": ""
          }
         },
         "name": "",
         "offsetgroup": "",
         "orientation": "v",
         "showlegend": false,
         "textposition": "auto",
         "type": "bar",
         "x": [
          "Turkey",
          "North Macedonia",
          "Slovakia",
          "Russia",
          "Scotland",
          "Ukraine",
          "Wales",
          "Hungary",
          "Finland",
          "Poland",
          "Germany",
          "Croatia",
          "Switzerland",
          "Portugal",
          "Austria",
          "France",
          "Sweden",
          "Czech Republic",
          "Netherlands",
          "Denmark",
          "Belgium",
          "Spain",
          "Italy",
          "England"
         ],
         "xaxis": "x",
         "y": [
          -7,
          -6,
          -5,
          -5,
          -4,
          -4,
          -3,
          -3,
          -2,
          -2,
          -1,
          -1,
          -1,
          0,
          0,
          1,
          1,
          2,
          4,
          5,
          6,
          7,
          9,
          9
         ],
         "yaxis": "y"
        }
       ],
       "layout": {
        "barmode": "relative",
        "coloraxis": {
         "colorbar": {
          "title": {
           "text": "Goal Difference"
          }
         },
         "colorscale": [
          [
           0,
           "#0d0887"
          ],
          [
           0.1111111111111111,
           "#46039f"
          ],
          [
           0.2222222222222222,
           "#7201a8"
          ],
          [
           0.3333333333333333,
           "#9c179e"
          ],
          [
           0.4444444444444444,
           "#bd3786"
          ],
          [
           0.5555555555555556,
           "#d8576b"
          ],
          [
           0.6666666666666666,
           "#ed7953"
          ],
          [
           0.7777777777777778,
           "#fb9f3a"
          ],
          [
           0.8888888888888888,
           "#fdca26"
          ],
          [
           1,
           "#f0f921"
          ]
         ]
        },
        "legend": {
         "tracegroupgap": 0
        },
        "template": {
         "data": {
          "bar": [
           {
            "error_x": {
             "color": "#2a3f5f"
            },
            "error_y": {
             "color": "#2a3f5f"
            },
            "marker": {
             "line": {
              "color": "white",
              "width": 0.5
             },
             "pattern": {
              "fillmode": "overlay",
              "size": 10,
              "solidity": 0.2
             }
            },
            "type": "bar"
           }
          ],
          "barpolar": [
           {
            "marker": {
             "line": {
              "color": "white",
              "width": 0.5
             },
             "pattern": {
              "fillmode": "overlay",
              "size": 10,
              "solidity": 0.2
             }
            },
            "type": "barpolar"
           }
          ],
          "carpet": [
           {
            "aaxis": {
             "endlinecolor": "#2a3f5f",
             "gridcolor": "#C8D4E3",
             "linecolor": "#C8D4E3",
             "minorgridcolor": "#C8D4E3",
             "startlinecolor": "#2a3f5f"
            },
            "baxis": {
             "endlinecolor": "#2a3f5f",
             "gridcolor": "#C8D4E3",
             "linecolor": "#C8D4E3",
             "minorgridcolor": "#C8D4E3",
             "startlinecolor": "#2a3f5f"
            },
            "type": "carpet"
           }
          ],
          "choropleth": [
           {
            "colorbar": {
             "outlinewidth": 0,
             "ticks": ""
            },
            "type": "choropleth"
           }
          ],
          "contour": [
           {
            "colorbar": {
             "outlinewidth": 0,
             "ticks": ""
            },
            "colorscale": [
             [
              0,
              "#0d0887"
             ],
             [
              0.1111111111111111,
              "#46039f"
             ],
             [
              0.2222222222222222,
              "#7201a8"
             ],
             [
              0.3333333333333333,
              "#9c179e"
             ],
             [
              0.4444444444444444,
              "#bd3786"
             ],
             [
              0.5555555555555556,
              "#d8576b"
             ],
             [
              0.6666666666666666,
              "#ed7953"
             ],
             [
              0.7777777777777778,
              "#fb9f3a"
             ],
             [
              0.8888888888888888,
              "#fdca26"
             ],
             [
              1,
              "#f0f921"
             ]
            ],
            "type": "contour"
           }
          ],
          "contourcarpet": [
           {
            "colorbar": {
             "outlinewidth": 0,
             "ticks": ""
            },
            "type": "contourcarpet"
           }
          ],
          "heatmap": [
           {
            "colorbar": {
             "outlinewidth": 0,
             "ticks": ""
            },
            "colorscale": [
             [
              0,
              "#0d0887"
             ],
             [
              0.1111111111111111,
              "#46039f"
             ],
             [
              0.2222222222222222,
              "#7201a8"
             ],
             [
              0.3333333333333333,
              "#9c179e"
             ],
             [
              0.4444444444444444,
              "#bd3786"
             ],
             [
              0.5555555555555556,
              "#d8576b"
             ],
             [
              0.6666666666666666,
              "#ed7953"
             ],
             [
              0.7777777777777778,
              "#fb9f3a"
             ],
             [
              0.8888888888888888,
              "#fdca26"
             ],
             [
              1,
              "#f0f921"
             ]
            ],
            "type": "heatmap"
           }
          ],
          "heatmapgl": [
           {
            "colorbar": {
             "outlinewidth": 0,
             "ticks": ""
            },
            "colorscale": [
             [
              0,
              "#0d0887"
             ],
             [
              0.1111111111111111,
              "#46039f"
             ],
             [
              0.2222222222222222,
              "#7201a8"
             ],
             [
              0.3333333333333333,
              "#9c179e"
             ],
             [
              0.4444444444444444,
              "#bd3786"
             ],
             [
              0.5555555555555556,
              "#d8576b"
             ],
             [
              0.6666666666666666,
              "#ed7953"
             ],
             [
              0.7777777777777778,
              "#fb9f3a"
             ],
             [
              0.8888888888888888,
              "#fdca26"
             ],
             [
              1,
              "#f0f921"
             ]
            ],
            "type": "heatmapgl"
           }
          ],
          "histogram": [
           {
            "marker": {
             "pattern": {
              "fillmode": "overlay",
              "size": 10,
              "solidity": 0.2
             }
            },
            "type": "histogram"
           }
          ],
          "histogram2d": [
           {
            "colorbar": {
             "outlinewidth": 0,
             "ticks": ""
            },
            "colorscale": [
             [
              0,
              "#0d0887"
             ],
             [
              0.1111111111111111,
              "#46039f"
             ],
             [
              0.2222222222222222,
              "#7201a8"
             ],
             [
              0.3333333333333333,
              "#9c179e"
             ],
             [
              0.4444444444444444,
              "#bd3786"
             ],
             [
              0.5555555555555556,
              "#d8576b"
             ],
             [
              0.6666666666666666,
              "#ed7953"
             ],
             [
              0.7777777777777778,
              "#fb9f3a"
             ],
             [
              0.8888888888888888,
              "#fdca26"
             ],
             [
              1,
              "#f0f921"
             ]
            ],
            "type": "histogram2d"
           }
          ],
          "histogram2dcontour": [
           {
            "colorbar": {
             "outlinewidth": 0,
             "ticks": ""
            },
            "colorscale": [
             [
              0,
              "#0d0887"
             ],
             [
              0.1111111111111111,
              "#46039f"
             ],
             [
              0.2222222222222222,
              "#7201a8"
             ],
             [
              0.3333333333333333,
              "#9c179e"
             ],
             [
              0.4444444444444444,
              "#bd3786"
             ],
             [
              0.5555555555555556,
              "#d8576b"
             ],
             [
              0.6666666666666666,
              "#ed7953"
             ],
             [
              0.7777777777777778,
              "#fb9f3a"
             ],
             [
              0.8888888888888888,
              "#fdca26"
             ],
             [
              1,
              "#f0f921"
             ]
            ],
            "type": "histogram2dcontour"
           }
          ],
          "mesh3d": [
           {
            "colorbar": {
             "outlinewidth": 0,
             "ticks": ""
            },
            "type": "mesh3d"
           }
          ],
          "parcoords": [
           {
            "line": {
             "colorbar": {
              "outlinewidth": 0,
              "ticks": ""
             }
            },
            "type": "parcoords"
           }
          ],
          "pie": [
           {
            "automargin": true,
            "type": "pie"
           }
          ],
          "scatter": [
           {
            "fillpattern": {
             "fillmode": "overlay",
             "size": 10,
             "solidity": 0.2
            },
            "type": "scatter"
           }
          ],
          "scatter3d": [
           {
            "line": {
             "colorbar": {
              "outlinewidth": 0,
              "ticks": ""
             }
            },
            "marker": {
             "colorbar": {
              "outlinewidth": 0,
              "ticks": ""
             }
            },
            "type": "scatter3d"
           }
          ],
          "scattercarpet": [
           {
            "marker": {
             "colorbar": {
              "outlinewidth": 0,
              "ticks": ""
             }
            },
            "type": "scattercarpet"
           }
          ],
          "scattergeo": [
           {
            "marker": {
             "colorbar": {
              "outlinewidth": 0,
              "ticks": ""
             }
            },
            "type": "scattergeo"
           }
          ],
          "scattergl": [
           {
            "marker": {
             "colorbar": {
              "outlinewidth": 0,
              "ticks": ""
             }
            },
            "type": "scattergl"
           }
          ],
          "scattermapbox": [
           {
            "marker": {
             "colorbar": {
              "outlinewidth": 0,
              "ticks": ""
             }
            },
            "type": "scattermapbox"
           }
          ],
          "scatterpolar": [
           {
            "marker": {
             "colorbar": {
              "outlinewidth": 0,
              "ticks": ""
             }
            },
            "type": "scatterpolar"
           }
          ],
          "scatterpolargl": [
           {
            "marker": {
             "colorbar": {
              "outlinewidth": 0,
              "ticks": ""
             }
            },
            "type": "scatterpolargl"
           }
          ],
          "scatterternary": [
           {
            "marker": {
             "colorbar": {
              "outlinewidth": 0,
              "ticks": ""
             }
            },
            "type": "scatterternary"
           }
          ],
          "surface": [
           {
            "colorbar": {
             "outlinewidth": 0,
             "ticks": ""
            },
            "colorscale": [
             [
              0,
              "#0d0887"
             ],
             [
              0.1111111111111111,
              "#46039f"
             ],
             [
              0.2222222222222222,
              "#7201a8"
             ],
             [
              0.3333333333333333,
              "#9c179e"
             ],
             [
              0.4444444444444444,
              "#bd3786"
             ],
             [
              0.5555555555555556,
              "#d8576b"
             ],
             [
              0.6666666666666666,
              "#ed7953"
             ],
             [
              0.7777777777777778,
              "#fb9f3a"
             ],
             [
              0.8888888888888888,
              "#fdca26"
             ],
             [
              1,
              "#f0f921"
             ]
            ],
            "type": "surface"
           }
          ],
          "table": [
           {
            "cells": {
             "fill": {
              "color": "#EBF0F8"
             },
             "line": {
              "color": "white"
             }
            },
            "header": {
             "fill": {
              "color": "#C8D4E3"
             },
             "line": {
              "color": "white"
             }
            },
            "type": "table"
           }
          ]
         },
         "layout": {
          "annotationdefaults": {
           "arrowcolor": "#2a3f5f",
           "arrowhead": 0,
           "arrowwidth": 1
          },
          "autotypenumbers": "strict",
          "coloraxis": {
           "colorbar": {
            "outlinewidth": 0,
            "ticks": ""
           }
          },
          "colorscale": {
           "diverging": [
            [
             0,
             "#8e0152"
            ],
            [
             0.1,
             "#c51b7d"
            ],
            [
             0.2,
             "#de77ae"
            ],
            [
             0.3,
             "#f1b6da"
            ],
            [
             0.4,
             "#fde0ef"
            ],
            [
             0.5,
             "#f7f7f7"
            ],
            [
             0.6,
             "#e6f5d0"
            ],
            [
             0.7,
             "#b8e186"
            ],
            [
             0.8,
             "#7fbc41"
            ],
            [
             0.9,
             "#4d9221"
            ],
            [
             1,
             "#276419"
            ]
           ],
           "sequential": [
            [
             0,
             "#0d0887"
            ],
            [
             0.1111111111111111,
             "#46039f"
            ],
            [
             0.2222222222222222,
             "#7201a8"
            ],
            [
             0.3333333333333333,
             "#9c179e"
            ],
            [
             0.4444444444444444,
             "#bd3786"
            ],
            [
             0.5555555555555556,
             "#d8576b"
            ],
            [
             0.6666666666666666,
             "#ed7953"
            ],
            [
             0.7777777777777778,
             "#fb9f3a"
            ],
            [
             0.8888888888888888,
             "#fdca26"
            ],
            [
             1,
             "#f0f921"
            ]
           ],
           "sequentialminus": [
            [
             0,
             "#0d0887"
            ],
            [
             0.1111111111111111,
             "#46039f"
            ],
            [
             0.2222222222222222,
             "#7201a8"
            ],
            [
             0.3333333333333333,
             "#9c179e"
            ],
            [
             0.4444444444444444,
             "#bd3786"
            ],
            [
             0.5555555555555556,
             "#d8576b"
            ],
            [
             0.6666666666666666,
             "#ed7953"
            ],
            [
             0.7777777777777778,
             "#fb9f3a"
            ],
            [
             0.8888888888888888,
             "#fdca26"
            ],
            [
             1,
             "#f0f921"
            ]
           ]
          },
          "colorway": [
           "#636efa",
           "#EF553B",
           "#00cc96",
           "#ab63fa",
           "#FFA15A",
           "#19d3f3",
           "#FF6692",
           "#B6E880",
           "#FF97FF",
           "#FECB52"
          ],
          "font": {
           "color": "#2a3f5f"
          },
          "geo": {
           "bgcolor": "white",
           "lakecolor": "white",
           "landcolor": "white",
           "showlakes": true,
           "showland": true,
           "subunitcolor": "#C8D4E3"
          },
          "hoverlabel": {
           "align": "left"
          },
          "hovermode": "closest",
          "mapbox": {
           "style": "light"
          },
          "paper_bgcolor": "white",
          "plot_bgcolor": "white",
          "polar": {
           "angularaxis": {
            "gridcolor": "#EBF0F8",
            "linecolor": "#EBF0F8",
            "ticks": ""
           },
           "bgcolor": "white",
           "radialaxis": {
            "gridcolor": "#EBF0F8",
            "linecolor": "#EBF0F8",
            "ticks": ""
           }
          },
          "scene": {
           "xaxis": {
            "backgroundcolor": "white",
            "gridcolor": "#DFE8F3",
            "gridwidth": 2,
            "linecolor": "#EBF0F8",
            "showbackground": true,
            "ticks": "",
            "zerolinecolor": "#EBF0F8"
           },
           "yaxis": {
            "backgroundcolor": "white",
            "gridcolor": "#DFE8F3",
            "gridwidth": 2,
            "linecolor": "#EBF0F8",
            "showbackground": true,
            "ticks": "",
            "zerolinecolor": "#EBF0F8"
           },
           "zaxis": {
            "backgroundcolor": "white",
            "gridcolor": "#DFE8F3",
            "gridwidth": 2,
            "linecolor": "#EBF0F8",
            "showbackground": true,
            "ticks": "",
            "zerolinecolor": "#EBF0F8"
           }
          },
          "shapedefaults": {
           "line": {
            "color": "#2a3f5f"
           }
          },
          "ternary": {
           "aaxis": {
            "gridcolor": "#DFE8F3",
            "linecolor": "#A2B1C6",
            "ticks": ""
           },
           "baxis": {
            "gridcolor": "#DFE8F3",
            "linecolor": "#A2B1C6",
            "ticks": ""
           },
           "bgcolor": "white",
           "caxis": {
            "gridcolor": "#DFE8F3",
            "linecolor": "#A2B1C6",
            "ticks": ""
           }
          },
          "title": {
           "x": 0.05
          },
          "xaxis": {
           "automargin": true,
           "gridcolor": "#EBF0F8",
           "linecolor": "#EBF0F8",
           "ticks": "",
           "title": {
            "standoff": 15
           },
           "zerolinecolor": "#EBF0F8",
           "zerolinewidth": 2
          },
          "yaxis": {
           "automargin": true,
           "gridcolor": "#EBF0F8",
           "linecolor": "#EBF0F8",
           "ticks": "",
           "title": {
            "standoff": 15
           },
           "zerolinecolor": "#EBF0F8",
           "zerolinewidth": 2
          }
         }
        },
        "title": {
         "text": "Goal Difference by Country",
         "x": 0.5,
         "xanchor": "center"
        },
        "xaxis": {
         "anchor": "y",
         "domain": [
          0,
          1
         ],
         "tickangle": -45,
         "title": {
          "text": "Country"
         }
        },
        "yaxis": {
         "anchor": "x",
         "domain": [
          0,
          1
         ],
         "dtick": 1,
         "tick0": 0,
         "tickmode": "linear",
         "title": {
          "text": "Goal Difference"
         }
        }
       }
      }
     },
     "metadata": {},
     "output_type": "display_data"
    }
   ],
   "source": [
    "fig = px.bar(result_df, x='Country', y='Goal_Difference', \n",
    "             hover_data=['Goal_Scored', 'Goal_Conceded'],\n",
    "             title=\"Goal Difference by Country\",\n",
    "             color='Goal_Difference',\n",
    "             labels={'Goal_Difference': 'Goal Difference', 'Country': 'Country'})\n",
    "\n",
    "fig.update_layout(yaxis=dict(tickmode='linear', tick0=0, dtick=1), title={'x':0.5, 'xanchor': 'center'}, xaxis_tickangle=-45, template='plotly_white')\n",
    "fig.update_traces(\n",
    "    hovertemplate=\"<b>%{x}</b><br>Goal Difference: %{y}<br>Goals Scored: %{customdata[0]}<br>Goals Conceded: %{customdata[1]}\",\n",
    "    marker_line_color='black',\n",
    "    marker_line_width=1.5\n",
    ")\n",
    "fig.show()"
   ]
  }
 ],
 "metadata": {
  "kernelspec": {
   "display_name": "Python 3",
   "language": "python",
   "name": "python3"
  },
  "language_info": {
   "codemirror_mode": {
    "name": "ipython",
    "version": 3
   },
   "file_extension": ".py",
   "mimetype": "text/x-python",
   "name": "python",
   "nbconvert_exporter": "python",
   "pygments_lexer": "ipython3",
   "version": "3.11.9"
  }
 },
 "nbformat": 4,
 "nbformat_minor": 2
}
